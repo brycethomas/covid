import datetime

wa_population = 7615000 # https://www.wolframalpha.com/input/?i=washington+state+population
avg_num_doses_required = 1.9 # J & J requires only 1 dose, but assume majority vaccines require 2.
doses_to_innoculate_entire_population = wa_population * avg_num_doses_required

percent_population_under_16 = 0.188 # https://www.wolframalpha.com/input/?i=washington+state+population+age+0+to+15
percent_population_who_will_refuse_dose = 0.1 # SWAG.

# "adult" = 16+ years.
doses_to_innoculate_entire_adult_population = doses_to_innoculate_entire_population * (
    1 - percent_population_under_18)

# 7-day trailing avg as of Mar. 31st: https://www.doh.wa.gov/Emergencies/COVID19/DataDashboard
wa_avg_daily_doses = 55894 
# as of Mar. 31st: https://www.doh.wa.gov/Emergencies/COVID19/DataDashboard
doses_administered = 3325998 

days_to_innoculate_the_willing = (doses_to_innoculate_entire_adult_population - doses_administered) * (
    (1.0 - percent_population_who_will_refuse_dose) / wa_avg_daily_doses)

vaccine_ga_date = datetime.datetime(2021, 4, 15)
analysis_date = datetime.datetime(2021, 3, 31)
latest_vaccine_date_for_willing = analysis_date + datetime.timedelta(days=days_to_innoculate_the_willing)
median_vaccine_date_for_willing = analysis_date + datetime.timedelta(days=days_to_innoculate_the_willing/2)

print("WASHINGTON STATE 'I\'m a young(ish) healthy adult' COVID PHASE FINDER")
print("")
print("TL;DR: you can expect a vaccine between {} and {}, with a median estimate of {}.".
      format(vaccine_ga_date.strftime('%Y-%m-%d'), 
             latest_vaccine_date_for_willing.strftime('%Y-%m-%d'),
             median_vaccine_date_for_willing.strftime('%Y-%m-%d')))

assumptions="""
Assumptions:
* Zero net migration of vaccinated indivduals (Close Enough (tm)).
* Washington State's daily doses adminstered remains constant.
* Under 16s will remain ineligible for the current vaccine or will otherwise not change daily doses adminstered to 16+.
"""

print(assumptions.format(
    wa_population, 
    avg_num_doses_required, 
    (percent_population_under_16 * 100), 
    (percent_population_who_will_refuse_dose * 100),
    wa_avg_daily_doses,
    doses_administered))