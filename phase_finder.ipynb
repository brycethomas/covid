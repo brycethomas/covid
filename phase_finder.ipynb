{
 "cells": [
  {
   "cell_type": "code",
   "execution_count": 1,
   "metadata": {},
   "outputs": [
    {
     "name": "stdout",
     "output_type": "stream",
     "text": [
      "WASHINGTON STATE 'I'm a young(ish) healthy adult' COVID PHASE FINDER\n",
      "\n",
      "TL;DR: you can expect vaccination between 2021-04-15 and 2021-08-02, with a median estimate of 2021-06-07.\n",
      "\n",
      "Assumptions:\n",
      "* Zero net migration of vaccinated indivduals (Close Enough (tm)).\n",
      "* Washington State's daily doses adminstered remains constant.\n",
      "* Under 16s will remain ineligible for the current vaccine or will otherwise not change daily doses adminstered to 16+.\n",
      "\n"
     ]
    }
   ],
   "source": [
    "\"\"\"Estimate when healthy young(ish) adults can expect vaccination in WA.\"\"\"\n",
    "import datetime\n",
    "\n",
    "analysis_date = datetime.datetime(2021, 4, 12)\n",
    "wa_avg_daily_doses = 62306 # 7-day avg from https://www.doh.wa.gov/Emergencies/COVID19/DataDashboard\n",
    "doses_administered = 4299351 # https://www.doh.wa.gov/Emergencies/COVID19/DataDashboard\n",
    "\n",
    "wa_population = 7615000 # https://www.wolframalpha.com/input/?i=washington+state+population\n",
    "avg_num_doses_required = 1.95 # J & J requires only 1 dose, but assume majority vaccines require 2.\n",
    "doses_to_innoculate_entire_population = wa_population * avg_num_doses_required\n",
    "\n",
    "percent_population_under_16 = 0.188 # https://www.wolframalpha.com/input/?i=washington+state+population+age+0+to+15\n",
    "percent_population_who_will_refuse_dose = 0.1 # SWAG.\n",
    "\n",
    "# \"adult\" = 16+ years.\n",
    "doses_to_innoculate_entire_adult_population = doses_to_innoculate_entire_population * (\n",
    "    1 - percent_population_under_16)\n",
    "\n",
    "days_to_innoculate_the_willing = (doses_to_innoculate_entire_adult_population - doses_administered) * (\n",
    "    (1.0 - percent_population_who_will_refuse_dose) / wa_avg_daily_doses)\n",
    "\n",
    "vaccine_ga_date = datetime.datetime(2021, 4, 15) # anyone can get vaccinated from this date.\n",
    "\n",
    "latest_vaccine_date_for_willing = analysis_date + datetime.timedelta(days=days_to_innoculate_the_willing)\n",
    "median_vaccine_date_for_willing = analysis_date + datetime.timedelta(days=days_to_innoculate_the_willing/2)\n",
    "\n",
    "print(\"WASHINGTON STATE 'I\\'m a young(ish) healthy adult' COVID PHASE FINDER\")\n",
    "print(\"\")\n",
    "print(\"TL;DR: you can expect vaccination between {} and {}, with a median estimate of {}.\".\n",
    "      format(vaccine_ga_date.strftime('%Y-%m-%d'), \n",
    "             latest_vaccine_date_for_willing.strftime('%Y-%m-%d'),\n",
    "             median_vaccine_date_for_willing.strftime('%Y-%m-%d')))\n",
    "\n",
    "assumptions=\"\"\"\n",
    "Assumptions:\n",
    "* Zero net migration of vaccinated indivduals (Close Enough (tm)).\n",
    "* Washington State's daily doses adminstered remains constant.\n",
    "* Under 16s will remain ineligible for the current vaccine or will otherwise not change daily doses adminstered to 16+.\n",
    "\"\"\"\n",
    "\n",
    "print(assumptions)"
   ]
  },
  {
   "cell_type": "code",
   "execution_count": null,
   "metadata": {},
   "outputs": [],
   "source": []
  }
 ],
 "metadata": {
  "kernelspec": {
   "display_name": "Python 3",
   "language": "python",
   "name": "python3"
  },
  "language_info": {
   "codemirror_mode": {
    "name": "ipython",
    "version": 3
   },
   "file_extension": ".py",
   "mimetype": "text/x-python",
   "name": "python",
   "nbconvert_exporter": "python",
   "pygments_lexer": "ipython3",
   "version": "3.8.5"
  }
 },
 "nbformat": 4,
 "nbformat_minor": 4
}
